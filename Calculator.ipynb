{
 "cells": [
  {
   "cell_type": "code",
   "execution_count": 1,
   "metadata": {},
   "outputs": [
    {
     "name": "stdout",
     "output_type": "stream",
     "text": [
      "\n",
      "    Calculator v1.0 Menu\n",
      "    1. Add two numbers\n",
      "    2. Subtract two number\n",
      "    3. Divde two numbers\n",
      "    4. Multiple two numbers\n",
      "    5. Calculate 8% Tax on a value\n",
      "    6. Calculate monthly payments, given a total amaount and a number of years\n",
      "    7. Quit\n",
      "\n",
      "\n",
      "   \n"
     ]
    },
    {
     "ename": "",
     "evalue": "",
     "output_type": "error",
     "traceback": [
      "\u001b[1;31mThe Kernel crashed while executing code in the current cell or a previous cell. \n",
      "\u001b[1;31mPlease review the code in the cell(s) to identify a possible cause of the failure. \n",
      "\u001b[1;31mClick <a href='https://aka.ms/vscodeJupyterKernelCrash'>here</a> for more info. \n",
      "\u001b[1;31mView Jupyter <a href='command:jupyter.viewOutput'>log</a> for further details."
     ]
    }
   ],
   "source": [
    "while True: \n",
    "    print(\n",
    "    '''\n",
    "    Calculator v1.0 Menu\n",
    "    1. Add two numbers\n",
    "    2. Subtract two number\n",
    "    3. Divde two numbers\n",
    "    4. Multiple two numbers\n",
    "    5. Calculate 8% Tax on a value\n",
    "    6. Calculate monthly payments, given a total amaount and a number of years\n",
    "    7. Quit\n",
    "\n",
    "\n",
    "   ''' )\n",
    "    \n",
    "    #print user input\n",
    "    userchoice = int(input ('Please choose an option from 1 - 6:'))\n",
    "\n",
    "    #if user chooses 1, add 2 numbers\n",
    "    if userchoice == 1:\n",
    "        print ('ADD TWO NUMBER')\n",
    "        number_1 = float(input('First nnumber'))\n",
    "        number_2 = float(input('Second nnumber'))\n",
    "        result = number_1 + number_2\n",
    "        print('Result:', result)\n",
    "\n",
    "\n",
    "    # else if\n",
    "    elif userchoice == 2:\n",
    "        print('SUBTRACT TWO NUMBERS')\n",
    "        number_1 = float(input('First number: '))\n",
    "        number_2 = float(input('Second number: '))\n",
    "        result = number_1 - number_2\n",
    "        print ('Result:', result)\n",
    "    \n",
    "    # else if uswer choose 7, program quit. \n",
    "    elif userchoice == 7:\n",
    "        break"
   ]
  },
  {
   "cell_type": "code",
   "execution_count": null,
   "metadata": {},
   "outputs": [],
   "source": []
  }
 ],
 "metadata": {
  "kernelspec": {
   "display_name": "base",
   "language": "python",
   "name": "python3"
  },
  "language_info": {
   "codemirror_mode": {
    "name": "ipython",
    "version": 3
   },
   "file_extension": ".py",
   "mimetype": "text/x-python",
   "name": "python",
   "nbconvert_exporter": "python",
   "pygments_lexer": "ipython3",
   "version": "3.11.5"
  }
 },
 "nbformat": 4,
 "nbformat_minor": 2
}
