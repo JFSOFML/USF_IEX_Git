{
 "cells": [
  {
   "cell_type": "code",
   "execution_count": null,
   "metadata": {},
   "outputs": [],
   "source": [
    "import os \n",
    "import tarfile\n",
    "import pyprind\n",
    "import pandas as pd\n",
    "from packaging import version\n",
    "import numpy as np"
   ]
  },
  {
   "cell_type": "code",
   "execution_count": 4,
   "metadata": {},
   "outputs": [],
   "source": [
    "# with tarfile.open('aclImdb_v1.tar.gz', 'r:gz') as tar:\n",
    "#     tar.extractall()"
   ]
  },
  {
   "cell_type": "code",
   "execution_count": 5,
   "metadata": {},
   "outputs": [
    {
     "name": "stderr",
     "output_type": "stream",
     "text": [
      "0% [##############################] 100% | ETA: 00:00:00\n",
      "Total time elapsed: 00:09:55\n"
     ]
    }
   ],
   "source": [
    "# basepath = 'aclImdb'\n",
    "\n",
    "# labels = {'pos': 1, 'neg': 0}\n",
    "\n",
    "# # if the progress bar does not show, change stream=sys.stdout to stream=2\n",
    "# pbar = pyprind.ProgBar(50000, stream=2)\n",
    "\n",
    "# df = pd.DataFrame()\n",
    "# for s in ('test', 'train'):\n",
    "#     for l in ('pos', 'neg'):\n",
    "#         path = os.path.join(basepath, s, l)\n",
    "#         for file in sorted(os.listdir(path)):\n",
    "#             with open(os.path.join(path, file), \n",
    "#                       'r', encoding='utf-8') as infile:\n",
    "#                 txt = infile.read()\n",
    "                \n",
    "#             if version.parse(pd.__version__) >= version.parse(\"1.3.2\"):\n",
    "#                 x = pd.DataFrame([[txt, labels[l]]], columns=['review', 'sentiment'])\n",
    "#                 df = pd.concat([df, x], ignore_index=False)\n",
    "\n",
    "#             else:\n",
    "#                 df = df.append([[txt, labels[l]]], \n",
    "#                                ignore_index=True)\n",
    "#             pbar.update()\n",
    "# df.columns = ['review', 'sentiment']"
   ]
  },
  {
   "cell_type": "code",
   "execution_count": 6,
   "metadata": {},
   "outputs": [],
   "source": [
    "df = df.sample(frac=1, random_state=42).reset_index(drop=True)"
   ]
  },
  {
   "cell_type": "code",
   "execution_count": 7,
   "metadata": {},
   "outputs": [],
   "source": [
    "df.to_csv('movie_data.csv', index=False, encoding='utf-8')"
   ]
  }
 ],
 "metadata": {
  "kernelspec": {
   "display_name": "Python 3",
   "language": "python",
   "name": "python3"
  },
  "language_info": {
   "codemirror_mode": {
    "name": "ipython",
    "version": 3
   },
   "file_extension": ".py",
   "mimetype": "text/x-python",
   "name": "python",
   "nbconvert_exporter": "python",
   "pygments_lexer": "ipython3",
   "version": "3.12.2"
  }
 },
 "nbformat": 4,
 "nbformat_minor": 2
}
