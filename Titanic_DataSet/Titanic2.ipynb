{
 "cells": [
  {
   "cell_type": "code",
   "execution_count": 29,
   "metadata": {},
   "outputs": [],
   "source": [
    "#Imports\n",
    "import pandas as pd\n",
    "from sklearn.preprocessing import StandardScaler\n",
    "from sklearn.metrics import accuracy_score\n",
    "from sklearn.ensemble import RandomForestClassifier, GradientBoostingClassifier, StackingClassifier, VotingClassifier, BaggingClassifier\n",
    "from sklearn.tree import DecisionTreeClassifier\n",
    "from sklearn.neighbors import KNeighborsClassifier\n",
    "from sklearn.linear_model import LogisticRegression\n",
    "from sklearn.svm import SVC\n",
    "\n",
    "\n"
   ]
  },
  {
   "cell_type": "code",
   "execution_count": 30,
   "metadata": {},
   "outputs": [],
   "source": [
    "# Load data\n",
    "train = pd.read_csv(\"train.csv\")\n",
    "test_df = pd.read_csv(\"test.csv\")\n",
    "gender_submission = pd.read_csv(\"gender_submission.csv\")\n",
    "\n"
   ]
  },
  {
   "cell_type": "code",
   "execution_count": 31,
   "metadata": {},
   "outputs": [
    {
     "name": "stderr",
     "output_type": "stream",
     "text": [
      "C:\\Users\\julio\\AppData\\Local\\Temp\\ipykernel_61760\\1866978140.py:2: FutureWarning: A value is trying to be set on a copy of a DataFrame or Series through chained assignment using an inplace method.\n",
      "The behavior will change in pandas 3.0. This inplace method will never work because the intermediate object on which we are setting values always behaves as a copy.\n",
      "\n",
      "For example, when doing 'df[col].method(value, inplace=True)', try using 'df.method({col: value}, inplace=True)' or df[col] = df[col].method(value) instead, to perform the operation inplace on the original object.\n",
      "\n",
      "\n",
      "  train['Age'].fillna(value = round(train['Age'].mean()), inplace = True)\n",
      "C:\\Users\\julio\\AppData\\Local\\Temp\\ipykernel_61760\\1866978140.py:3: FutureWarning: A value is trying to be set on a copy of a DataFrame or Series through chained assignment using an inplace method.\n",
      "The behavior will change in pandas 3.0. This inplace method will never work because the intermediate object on which we are setting values always behaves as a copy.\n",
      "\n",
      "For example, when doing 'df[col].method(value, inplace=True)', try using 'df.method({col: value}, inplace=True)' or df[col] = df[col].method(value) instead, to perform the operation inplace on the original object.\n",
      "\n",
      "\n",
      "  test_df['Age'].fillna(value = round(test_df['Age'].mean()), inplace = True)\n"
     ]
    }
   ],
   "source": [
    "# Fill missing age with median or mean\n",
    "train['Age'].fillna(value = round(train['Age'].mean()), inplace = True)\n",
    "test_df['Age'].fillna(value = round(test_df['Age'].mean()), inplace = True)\n",
    "test_df['Fare'] = test_df['Fare'].fillna(round(test_df['Fare'].mean()))\n",
    "\n",
    "# Convert 'Sex' into binary (0 for male and 1 for female)\n",
    "train['Sex_binary'] = train['Sex'].map({\"male\": 0, \"female\": 1})\n",
    "test_df['Sex_binary'] = test_df['Sex'].map({\"male\": 0, \"female\": 1})\n",
    "\n",
    "\n",
    "# Assigning the features (x) and Labels (y) to standardized nameing scheme\n",
    "X_train = train[[\"Pclass\",\"Age\",\"SibSp\",\"Parch\",\"Fare\",\"Sex_binary\"]]\n",
    "y_train = train[\"Survived\"]\n",
    "X_test = test_df[[\"Pclass\",\"Age\",\"SibSp\",\"Parch\",\"Fare\",\"Sex_binary\"]]\n",
    "y_test = gender_submission[\"Survived\"]"
   ]
  },
  {
   "cell_type": "code",
   "execution_count": 32,
   "metadata": {},
   "outputs": [],
   "source": [
    "# Standardize features\n",
    "scaler = StandardScaler()\n",
    "X_train = scaler.fit_transform(X_train)\n",
    "X_test = scaler.transform(X_test)\n",
    "\n"
   ]
  },
  {
   "cell_type": "code",
   "execution_count": 33,
   "metadata": {},
   "outputs": [
    {
     "name": "stdout",
     "output_type": "stream",
     "text": [
      "Bagging Model Accuracy: 0.8254\n",
      "Boosting Model Accuracy: 0.9211\n",
      "Stacking Model Accuracy: 0.8325\n",
      "Voting Model Accuracy: 0.9402\n"
     ]
    }
   ],
   "source": [
    "# Define the models\n",
    "bagging_model = RandomForestClassifier(n_estimators=100, random_state=42)\n",
    "boosting_model = GradientBoostingClassifier(n_estimators=100, learning_rate=1.0, max_depth=1, random_state=42)\n",
    "stacking_model = StackingClassifier(estimators=[\n",
    "    ('lr', LogisticRegression()), \n",
    "    ('svc', SVC(probability=True))\n",
    "], final_estimator=RandomForestClassifier())\n",
    "\n",
    "voting_model = VotingClassifier(estimators=[\n",
    "    ('lr', LogisticRegression()), \n",
    "    ('rf', RandomForestClassifier()), \n",
    "    ('svc', SVC(probability=True))\n",
    "], voting='soft')\n",
    "\n",
    "# Train and evaluate each model\n",
    "models = {\n",
    "    \"Bagging\": bagging_model,\n",
    "    \"Boosting\": boosting_model,\n",
    "    \"Stacking\": stacking_model,\n",
    "    \"Voting\": voting_model\n",
    "}\n",
    "\n",
    "for name, model in models.items():\n",
    "    model.fit(X_train, y_train)\n",
    "    predictions = model.predict(X_test)\n",
    "    accuracy = accuracy_score(y_test, predictions)\n",
    "    print(f\"{name} Model Accuracy: {accuracy:.4f}\")\n",
    "\n",
    "\n"
   ]
  },
  {
   "cell_type": "code",
   "execution_count": 34,
   "metadata": {},
   "outputs": [],
   "source": [
    "# Streamlit integration (example)\n",
    "#import streamlit as st\n",
    "#\n",
    "#st.title(\"Titanic Survival Prediction\")\n",
    "#\n",
    "#model_choice = st.selectbox(\"SVC\", [\"Bagging\", \"Boosting\", \"Stacking\", \"Voting\"])\n",
    "#\n",
    "#if model_choice:\n",
    "#    model = models[model_choice]\n",
    "#    predictions = model.predict(test_features_norm)\n",
    "#    accuracy = accuracy_score(test_labels, predictions)\n",
    "#    st.write(f\"{model_choice} Model Accuracy: {accuracy:.4f}\")\n",
    "#\n",
    "#    st.write(\"Predictions for the first 10 passengers in the test set:\")\n",
    "#    st.write(predictions[:10])"
   ]
  },
  {
   "cell_type": "code",
   "execution_count": null,
   "metadata": {},
   "outputs": [],
   "source": []
  }
 ],
 "metadata": {
  "kernelspec": {
   "display_name": "Python 3",
   "language": "python",
   "name": "python3"
  },
  "language_info": {
   "codemirror_mode": {
    "name": "ipython",
    "version": 3
   },
   "file_extension": ".py",
   "mimetype": "text/x-python",
   "name": "python",
   "nbconvert_exporter": "python",
   "pygments_lexer": "ipython3",
   "version": "3.12.2"
  }
 },
 "nbformat": 4,
 "nbformat_minor": 2
}
