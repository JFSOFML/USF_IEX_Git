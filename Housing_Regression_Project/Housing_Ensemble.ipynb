{
 "cells": [
  {
   "cell_type": "code",
   "execution_count": 98,
   "metadata": {},
   "outputs": [],
   "source": [
    "# imports\n",
    "import pandas as pd\n",
    "import numpy as np\n",
    "from sklearn.preprocessing import StandardScaler\n",
    "from matplotlib import pyplot as plt\n",
    "from sklearn.model_selection import train_test_split\n",
    "from sklearn.model_selection import RandomizedSearchCV\n",
    "from sklearn.pipeline import Pipeline\n",
    "from sklearn.metrics import r2_score\n",
    "\n",
    "#models\n",
    "from sklearn.ensemble import RandomForestRegressor\n",
    "from sklearn.svm import SVR\n",
    "from sklearn.linear_model import Lasso\n",
    "from sklearn.linear_model import ElasticNet\n",
    "from sklearn.linear_model import LinearRegression\n",
    "from sklearn.ensemble import BaggingRegressor, GradientBoostingRegressor, StackingRegressor, VotingRegressor\n",
    "from sklearn.model_selection import cross_val_score, learning_curve, validation_curve\n"
   ]
  },
  {
   "cell_type": "code",
   "execution_count": 99,
   "metadata": {},
   "outputs": [],
   "source": [
    "#Load Data\n",
    "columns = ['Overall Qual', 'Overall Cond', 'Gr Liv Area', 'Central Air', 'Total Bsmt SF', 'SalePrice']\n",
    "\n",
    "df = pd.read_csv('AmesHousing.txt',\n",
    "                 sep='\\t',\n",
    "                 usecols=columns)"
   ]
  },
  {
   "cell_type": "code",
   "execution_count": 100,
   "metadata": {},
   "outputs": [],
   "source": [
    "# Clean data\n",
    "df['Central Air'] = df['Central Air'].map({'N': 0, 'Y': 1})\n",
    "\n",
    "df.isnull().sum()\n",
    "\n",
    "df = df.dropna(axis=0)"
   ]
  },
  {
   "cell_type": "code",
   "execution_count": 101,
   "metadata": {},
   "outputs": [],
   "source": [
    "#Train Test Split\n",
    "y = df[\"SalePrice\"]\n",
    "X = df.drop([\"Central Air\", \"SalePrice\"], axis = 1)\n",
    "\n",
    "X_train, X_test, y_train, y_test = train_test_split(X, y, test_size=0.2, random_state=42)"
   ]
  },
  {
   "cell_type": "code",
   "execution_count": 102,
   "metadata": {},
   "outputs": [],
   "source": [
    "#Initialize Models\n",
    "sc = StandardScaler()\n",
    "forest_model = RandomForestRegressor(n_estimators=50, min_samples_split=4)\n",
    "lr_model = LinearRegression()\n",
    "SVR_model = SVR(C=10, epsilon= 0.2, kernel=\"sigmoid\")\n",
    "\n",
    "pipeline_forest = Pipeline([\n",
    "    ('scaler', sc),\n",
    "    ('forest', forest_model)\n",
    "])\n",
    "\n",
    "pipeline_lr = Pipeline([\n",
    "    ('scaler', sc),\n",
    "    ('lr', lr_model)\n",
    "])\n",
    "\n",
    "pipeline_SVR = Pipeline([\n",
    "    ('scaler', sc),\n",
    "    ('SVR', SVR_model)\n",
    "])\n"
   ]
  },
  {
   "cell_type": "code",
   "execution_count": 103,
   "metadata": {},
   "outputs": [
    {
     "name": "stdout",
     "output_type": "stream",
     "text": [
      "r2_forest: 0.8511312054014035\n",
      "r2_lr: 0.6722721965665444\n",
      "r2_svr: 0.06817179411869034\n"
     ]
    }
   ],
   "source": [
    "# Fit models and print accuracy\n",
    "pipeline_forest.fit(X_train, y_train)\n",
    "pipeline_lr.fit(X_train, y_train)\n",
    "pipeline_SVR.fit(X_train, y_train)\n",
    "\n",
    "\n",
    "ypred_forest = pipeline_forest.predict(X_test)\n",
    "r2_forest = r2_score(y_test, ypred_forest)\n",
    "ypred_lr = pipeline_lr.predict(X_test)\n",
    "r2_lr = r2_score(y_test, ypred_lr)\n",
    "ypred_svr = pipeline_SVR.predict(X_test)\n",
    "r2_svr = r2_score(y_test, ypred_svr)\n",
    "\n",
    "print(f\"r2_forest: {r2_forest}\") \n",
    "print(f\"r2_lr: {r2_lr}\") \n",
    "print(f\"r2_svr: {r2_svr}\") \n",
    "\n",
    "\n",
    "\n"
   ]
  },
  {
   "cell_type": "code",
   "execution_count": 104,
   "metadata": {},
   "outputs": [],
   "source": [
    "# Parameter grids"
   ]
  },
  {
   "cell_type": "code",
   "execution_count": 105,
   "metadata": {},
   "outputs": [],
   "source": [
    "#Retrain models with Hyperparameter tuning"
   ]
  },
  {
   "cell_type": "code",
   "execution_count": 106,
   "metadata": {},
   "outputs": [
    {
     "data": {
      "text/plain": [
       "0.9491196183716848"
      ]
     },
     "execution_count": 106,
     "metadata": {},
     "output_type": "execute_result"
    }
   ],
   "source": [
    "#Bagging \n",
    "regr = BaggingRegressor(estimator=forest_model,\n",
    "                        n_estimators=10, random_state=0).fit(X, y)\n",
    "ypred = regr.predict(X_test)\n",
    "r2 = r2_score(y_test, ypred)\n",
    "r2"
   ]
  },
  {
   "cell_type": "code",
   "execution_count": 107,
   "metadata": {},
   "outputs": [
    {
     "data": {
      "text/plain": [
       "0.8751504785724268"
      ]
     },
     "execution_count": 107,
     "metadata": {},
     "output_type": "execute_result"
    }
   ],
   "source": [
    "# Boosting\n",
    "gboost = GradientBoostingRegressor(n_estimators=100, learning_rate=1.0,\n",
    "   max_depth=1, random_state=0).fit(X_train, y_train)\n",
    "gboost.score(X_test, y_test)"
   ]
  },
  {
   "cell_type": "code",
   "execution_count": 110,
   "metadata": {},
   "outputs": [
    {
     "name": "stdout",
     "output_type": "stream",
     "text": [
      "Stacking Model Accuracy: 0.82\n"
     ]
    }
   ],
   "source": [
    "#Stacking\n",
    "level1_models = [\n",
    "    ('lr', lr_model),\n",
    "    ('svr', SVR_model)\n",
    "]\n",
    "# Define the final estimator\n",
    "final_estimator = forest_model \n",
    "\n",
    "stacking_model = StackingRegressor(estimators=level1_models, final_estimator=final_estimator, cv=5)\n",
    "stacking_model.fit(X_train, y_train)\n",
    "y_pred = stacking_model.predict(X_test)\n",
    "r2 = r2_score(y_test, y_pred)\n",
    "\n",
    "print(f'Stacking Model Accuracy: {r2:.2f}')"
   ]
  },
  {
   "cell_type": "code",
   "execution_count": 111,
   "metadata": {},
   "outputs": [
    {
     "name": "stdout",
     "output_type": "stream",
     "text": [
      "Majority Voting Model R2: 0.53\n"
     ]
    }
   ],
   "source": [
    "#voting\n",
    "voting_model = VotingRegressor(estimators=level1_models)  \n",
    "voting_model.fit(X_train, y_train)\n",
    "y_pred = voting_model.predict(X_test)\n",
    "r2 = r2_score(y_test, y_pred)\n",
    "\n",
    "print(f'Majority Voting Model R2: {r2:.2f}')"
   ]
  }
 ],
 "metadata": {
  "kernelspec": {
   "display_name": "Python 3",
   "language": "python",
   "name": "python3"
  },
  "language_info": {
   "codemirror_mode": {
    "name": "ipython",
    "version": 3
   },
   "file_extension": ".py",
   "mimetype": "text/x-python",
   "name": "python",
   "nbconvert_exporter": "python",
   "pygments_lexer": "ipython3",
   "version": "3.12.2"
  }
 },
 "nbformat": 4,
 "nbformat_minor": 2
}
